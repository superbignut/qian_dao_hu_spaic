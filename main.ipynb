{
 "cells": [
  {
   "cell_type": "code",
   "execution_count": 110,
   "metadata": {},
   "outputs": [],
   "source": [
    "import csv\n",
    "import pandas as pd\n",
    "import random\n",
    "import torch\n"
   ]
  },
  {
   "cell_type": "code",
   "execution_count": 165,
   "metadata": {},
   "outputs": [],
   "source": [
    "input_node_num = 16\n",
    "input_num_mul_index = 16 #  把输入维度放大10倍\n",
    "\n",
    "# input_node_num = input_node_num * input_num_mul #  把输入维度放大10倍\n",
    "\n",
    "def ysc_create_data_before_pretrain_new_new():\n",
    "    rows = 10000\n",
    "    data = []\n",
    "    groups = {\n",
    "        'ANGRY': [15, 11],\n",
    "        'NEGATIVE': [14, 10, 7, 6, 5, 3, 1], # 这里的一个很大的假设就是,如果一起训练可以消极, 那么单个的输入给进来的时候,希望也是消极的!!!!!!\n",
    "        'POSITIVE': [2, 9, 10, 13],\n",
    "        'NULL': [0, 4, 8, 12]\n",
    "        }\n",
    "    for _ in range(rows):\n",
    "        selected_group = random.choice(list(groups.values()))\n",
    "        result_list = [0.0] * input_node_num\n",
    "        for i in range(input_node_num):\n",
    "            if i in selected_group:\n",
    "                result_list[i] = 1.0\n",
    "            else:\n",
    "                result_list[i] = random.uniform(0, 0.2)\n",
    "        data.append(result_list * input_num_mul_index)\n",
    "    with open('output.csv', mode='w', newline='') as file:\n",
    "        writer = csv.writer(file)\n",
    "        writer.writerows(data)\n",
    "    print(\"CSV文件已保存。\")\n"
   ]
  },
  {
   "cell_type": "code",
   "execution_count": 167,
   "metadata": {},
   "outputs": [],
   "source": [
    "df = pd.read_csv('output.csv', header=None) # 读取数据"
   ]
  },
  {
   "cell_type": "code",
   "execution_count": 170,
   "metadata": {},
   "outputs": [],
   "source": [
    "data = df.values.tolist()"
   ]
  },
  {
   "cell_type": "code",
   "execution_count": 176,
   "metadata": {},
   "outputs": [
    {
     "data": {
      "text/plain": [
       "[0.0391732143703741,\n",
       " 1.0,\n",
       " 0.0555095161070095,\n",
       " 1.0,\n",
       " 0.0945372762556412,\n",
       " 1.0,\n",
       " 1.0,\n",
       " 1.0,\n",
       " 0.1009463541774024,\n",
       " 0.0567735630339054,\n",
       " 1.0,\n",
       " 0.093299828365135,\n",
       " 0.053613880015351,\n",
       " 0.1722589185979061,\n",
       " 1.0,\n",
       " 0.0683625065090262]"
      ]
     },
     "execution_count": 176,
     "metadata": {},
     "output_type": "execute_result"
    }
   ],
   "source": [
    "\n",
    "data[0][:16]"
   ]
  },
  {
   "cell_type": "code",
   "execution_count": null,
   "metadata": {},
   "outputs": [],
   "source": []
  },
  {
   "cell_type": "code",
   "execution_count": null,
   "metadata": {},
   "outputs": [],
   "source": []
  },
  {
   "cell_type": "code",
   "execution_count": 163,
   "metadata": {},
   "outputs": [],
   "source": [
    "ls = [1,2,3,4,5,6]\n",
    "ls2 = ls * 2"
   ]
  },
  {
   "cell_type": "code",
   "execution_count": 164,
   "metadata": {},
   "outputs": [
    {
     "data": {
      "text/plain": [
       "[100, 2, 3, 4, 5, 6, 1, 2, 3, 4, 5, 6]"
      ]
     },
     "execution_count": 164,
     "metadata": {},
     "output_type": "execute_result"
    }
   ],
   "source": [
    "ls2[0]= 100\n",
    "ls2"
   ]
  },
  {
   "cell_type": "code",
   "execution_count": 166,
   "metadata": {},
   "outputs": [
    {
     "name": "stdout",
     "output_type": "stream",
     "text": [
      "CSV文件已保存。\n"
     ]
    }
   ],
   "source": [
    "ysc_create_data_before_pretrain_new_new()\n"
   ]
  },
  {
   "cell_type": "code",
   "execution_count": null,
   "metadata": {},
   "outputs": [],
   "source": [
    "buffer = torch.load('ysc_buffer.pth')"
   ]
  },
  {
   "cell_type": "code",
   "execution_count": null,
   "metadata": {},
   "outputs": [],
   "source": [
    "torch.tensor(0).unsqueeze(0)"
   ]
  },
  {
   "cell_type": "code",
   "execution_count": null,
   "metadata": {},
   "outputs": [],
   "source": [
    "avg_buffer = [sum(buffer[i][-100:]) / len(buffer[i][-100:]) for i in range(len(buffer))]"
   ]
  },
  {
   "cell_type": "code",
   "execution_count": null,
   "metadata": {},
   "outputs": [],
   "source": [
    "buffer.shape"
   ]
  },
  {
   "cell_type": "code",
   "execution_count": null,
   "metadata": {},
   "outputs": [],
   "source": [
    "len(buffer[1])"
   ]
  },
  {
   "cell_type": "code",
   "execution_count": null,
   "metadata": {},
   "outputs": [],
   "source": [
    "buffer = torch.load('ysc_buffer.pth')\n",
    "len(buffer)"
   ]
  },
  {
   "cell_type": "code",
   "execution_count": null,
   "metadata": {},
   "outputs": [],
   "source": [
    "for i in range(4):\n",
    "    print(len(buffer[i]))"
   ]
  },
  {
   "cell_type": "code",
   "execution_count": null,
   "metadata": {},
   "outputs": [],
   "source": [
    "[sum(buffer[i][-200:]) / len(buffer[i][-200:]) for i in range(len(buffer))]"
   ]
  },
  {
   "cell_type": "code",
   "execution_count": null,
   "metadata": {},
   "outputs": [],
   "source": [
    "ls = [[] for _ in range(4)]"
   ]
  },
  {
   "cell_type": "code",
   "execution_count": null,
   "metadata": {},
   "outputs": [],
   "source": [
    "a = torch.randn(2,13)\n",
    "b = torch.randn(2,13)\n",
    "a / b"
   ]
  },
  {
   "cell_type": "code",
   "execution_count": null,
   "metadata": {},
   "outputs": [],
   "source": [
    "import numpy as np"
   ]
  },
  {
   "cell_type": "code",
   "execution_count": null,
   "metadata": {},
   "outputs": [],
   "source": [
    "np.random.rand(10, 4) * 0.2"
   ]
  },
  {
   "cell_type": "code",
   "execution_count": null,
   "metadata": {},
   "outputs": [],
   "source": [
    "a = torch.load('weight_origin.pth')"
   ]
  },
  {
   "cell_type": "code",
   "execution_count": null,
   "metadata": {},
   "outputs": [],
   "source": [
    "a\n"
   ]
  },
  {
   "cell_type": "code",
   "execution_count": null,
   "metadata": {},
   "outputs": [],
   "source": [
    "b = torch.load('weight_new.pth')"
   ]
  },
  {
   "cell_type": "code",
   "execution_count": null,
   "metadata": {},
   "outputs": [],
   "source": [
    "b"
   ]
  },
  {
   "cell_type": "code",
   "execution_count": null,
   "metadata": {},
   "outputs": [],
   "source": [
    "a[0][9]"
   ]
  },
  {
   "cell_type": "code",
   "execution_count": null,
   "metadata": {},
   "outputs": [],
   "source": [
    "b[0][9]"
   ]
  },
  {
   "cell_type": "code",
   "execution_count": null,
   "metadata": {},
   "outputs": [],
   "source": [
    "for i in range(c.shape[0]):\n",
    "    if all(c[i]) :\n",
    "        pass\n",
    "    else:\n",
    "        print(i)"
   ]
  },
  {
   "cell_type": "code",
   "execution_count": null,
   "metadata": {},
   "outputs": [],
   "source": [
    "all(c[10])\n",
    "c[10]"
   ]
  },
  {
   "cell_type": "code",
   "execution_count": null,
   "metadata": {},
   "outputs": [],
   "source": [
    "ls1 = [1,2,3,4]\n",
    "ls2 = [1,2,3,4]"
   ]
  },
  {
   "cell_type": "code",
   "execution_count": null,
   "metadata": {},
   "outputs": [],
   "source": [
    "torch.tensor(ls1) / torch.tensor(ls2)"
   ]
  },
  {
   "cell_type": "code",
   "execution_count": null,
   "metadata": {},
   "outputs": [],
   "source": [
    "dw = torch.load('dw.pth')\n",
    "dw"
   ]
  },
  {
   "cell_type": "code",
   "execution_count": 88,
   "metadata": {},
   "outputs": [
    {
     "name": "stdout",
     "output_type": "stream",
     "text": [
      "True\n",
      "True\n",
      "True\n",
      "True\n",
      "True\n",
      "True\n",
      "True\n",
      "True\n",
      "True\n",
      "True\n",
      "True\n",
      "True\n",
      "False\n",
      "True\n",
      "True\n",
      "True\n",
      "True\n",
      "True\n",
      "True\n",
      "True\n",
      "True\n",
      "True\n",
      "True\n",
      "True\n",
      "True\n",
      "True\n",
      "True\n",
      "True\n",
      "True\n",
      "False\n",
      "True\n",
      "True\n",
      "True\n",
      "True\n",
      "True\n",
      "True\n",
      "True\n",
      "True\n",
      "True\n",
      "True\n",
      "True\n",
      "True\n",
      "True\n",
      "True\n",
      "True\n",
      "False\n",
      "True\n",
      "True\n",
      "True\n",
      "False\n",
      "True\n",
      "True\n",
      "True\n",
      "True\n",
      "True\n",
      "True\n",
      "True\n",
      "False\n",
      "True\n",
      "True\n",
      "True\n",
      "True\n",
      "True\n",
      "True\n",
      "True\n",
      "True\n",
      "True\n",
      "True\n",
      "True\n",
      "True\n",
      "True\n",
      "True\n",
      "True\n",
      "True\n",
      "True\n",
      "True\n",
      "True\n",
      "True\n",
      "True\n",
      "True\n",
      "False\n",
      "True\n",
      "True\n",
      "True\n",
      "True\n",
      "False\n",
      "True\n",
      "True\n",
      "True\n",
      "True\n",
      "True\n",
      "True\n",
      "False\n",
      "False\n",
      "True\n",
      "False\n",
      "True\n",
      "True\n",
      "True\n",
      "True\n"
     ]
    }
   ],
   "source": [
    "dw = torch.load('dw.pth')\n",
    "for i  in range(dw.shape[0]):\n",
    "    print(all(dw[i] == 0))"
   ]
  },
  {
   "cell_type": "code",
   "execution_count": 89,
   "metadata": {},
   "outputs": [
    {
     "data": {
      "text/plain": [
       "tensor([[-4.4957e-01,  2.1680e-01,  3.6532e-02,  1.3700e+00, -8.3934e-01,\n",
       "         -9.6162e-01,  9.1259e-01,  1.7254e+00,  1.6790e-01, -2.4011e+00,\n",
       "          1.3005e-01, -2.8120e-01, -7.5087e-01, -2.4182e-01, -1.2076e+00,\n",
       "          2.8364e-02, -9.6793e-01, -1.1261e+00,  1.0194e+00,  3.4209e-01,\n",
       "         -3.5518e-01,  1.5220e+00,  2.8494e-02,  8.6401e-01, -6.2532e-01,\n",
       "         -2.2515e-01,  1.8200e-01,  1.2736e+00, -7.9176e-01, -8.1006e-01,\n",
       "          5.9936e-01,  2.0150e-01,  3.4870e-01, -7.2715e-01,  1.6827e+00,\n",
       "          3.4853e-02, -1.9385e-03, -7.7006e-01, -1.2641e+00,  5.0987e-01,\n",
       "          6.4353e-02,  6.9268e-01,  9.5261e-01,  4.4395e-01,  1.2023e+00,\n",
       "          2.9555e-01, -1.1676e+00, -1.3143e+00, -3.6461e-01, -6.7640e-01],\n",
       "        [-1.2703e+00,  1.5300e+00, -2.0593e+00,  5.7110e-01,  3.9554e-01,\n",
       "         -1.1190e+00,  3.5127e-01,  2.8159e-01, -8.3668e-01,  1.1051e+00,\n",
       "          1.8047e+00, -4.0001e-02, -1.9734e+00,  1.0110e-01,  6.4896e-01,\n",
       "          2.1629e-01, -1.7893e-01,  6.7395e-01, -8.1090e-01, -1.0250e+00,\n",
       "         -8.4641e-01, -1.0247e+00,  1.0800e+00,  4.8463e-01,  3.5992e-01,\n",
       "          4.4158e-01, -1.2012e-01,  9.3128e-02,  2.4073e+00, -8.7807e-01,\n",
       "         -3.6428e-01, -3.4727e-01, -5.6113e-01,  1.5188e-01,  1.0180e+00,\n",
       "          1.7592e+00,  9.6397e-01,  4.6444e-01,  1.6185e+00, -1.1937e-01,\n",
       "          1.3572e-01, -9.0938e-01,  8.2612e-01,  4.6949e-01,  5.1327e-01,\n",
       "          4.2132e-01,  1.6285e+00,  1.2940e+00,  3.9168e-01, -2.3334e+00],\n",
       "        [-9.7328e-01,  1.2274e+00,  5.5363e-01,  4.6560e-01,  4.8419e-01,\n",
       "          7.9908e-01,  1.6021e+00,  9.3717e-01, -3.4310e-01, -1.1127e+00,\n",
       "         -6.1601e-01, -6.2040e-01,  5.9492e-01,  4.3420e-01, -4.8227e-01,\n",
       "         -1.0279e+00, -9.5303e-01, -1.5571e+00, -5.8571e-01,  1.0192e+00,\n",
       "          8.6028e-02,  2.0528e-01,  9.7257e-01,  1.1946e+00, -9.0637e-01,\n",
       "         -3.6100e-01, -9.6687e-02,  7.1657e-01, -6.2349e-01, -4.8149e-01,\n",
       "         -5.0219e-01,  5.2068e-01,  5.6800e-01, -2.6446e-01,  1.0164e+00,\n",
       "         -6.8304e-01, -2.6275e-01, -1.5752e+00,  3.5294e-01,  1.0609e+00,\n",
       "          1.1972e+00,  8.8413e-01,  4.0657e-01, -2.5194e-01, -5.3051e-01,\n",
       "          1.1657e-02, -8.8571e-01, -1.2276e+00,  3.3376e-01,  3.4142e-01],\n",
       "        [-1.6999e-02,  1.8629e-01,  6.5221e-01, -1.2973e+00,  8.2196e-01,\n",
       "         -3.0468e-01, -9.5535e-01,  1.1296e-01, -8.5434e-01, -4.1792e-01,\n",
       "          1.2419e+00,  1.9430e-01, -7.6058e-01,  3.1752e-01, -7.6868e-01,\n",
       "          1.3408e+00,  6.7267e-01,  7.0307e-01, -1.3929e+00,  9.5868e-01,\n",
       "          4.1125e-01, -7.3707e-01,  2.0028e+00,  5.4288e-02, -1.4211e-01,\n",
       "          6.7724e-01,  2.7535e-01, -2.0043e+00, -4.7653e-01,  8.1443e-02,\n",
       "          4.0449e-02,  3.5620e-01,  2.3210e+00, -5.7321e-01, -2.0304e-01,\n",
       "         -1.8290e-01,  1.8407e+00, -2.1780e+00,  7.3169e-02, -2.8498e+00,\n",
       "          2.2888e+00, -6.4336e-01, -9.9464e-01, -2.9288e-01,  4.5067e-01,\n",
       "          1.0606e+00,  1.7762e+00,  5.7746e-01, -1.6301e+00, -1.0665e+00],\n",
       "        [-5.7744e-01, -1.0033e+00, -7.9415e-01, -1.3521e+00, -1.6856e-01,\n",
       "          3.0282e-01,  8.4194e-01,  1.0484e-01,  8.3733e-01, -8.3595e-01,\n",
       "          1.5037e+00,  8.0905e-01,  9.2480e-01, -5.4609e-01,  1.5018e-01,\n",
       "         -1.7119e+00,  4.2802e-01,  1.1946e+00,  1.3734e+00,  3.3670e-01,\n",
       "          1.1545e+00, -1.5121e+00, -2.9851e-02,  4.5986e-01,  2.4943e+00,\n",
       "          2.7670e-01, -1.3964e+00, -1.2392e-01, -1.0856e+00, -4.0526e-01,\n",
       "          1.2658e+00, -1.8107e-01, -5.0457e-01, -4.4978e-01,  2.7489e-01,\n",
       "          1.0186e-01, -4.7661e-01,  4.2992e-01,  5.7452e-01,  3.0776e-01,\n",
       "          4.8387e-01,  3.8748e-02, -1.7077e+00,  1.5532e-01, -1.3526e+00,\n",
       "         -9.5554e-01,  1.2809e-01,  5.8750e-01, -1.3564e+00, -1.9289e+00]])"
      ]
     },
     "execution_count": 89,
     "metadata": {},
     "output_type": "execute_result"
    }
   ],
   "source": [
    "weight = torch.randn(5,50)\n",
    "weight"
   ]
  },
  {
   "cell_type": "code",
   "execution_count": 94,
   "metadata": {},
   "outputs": [
    {
     "data": {
      "text/plain": [
       "False"
      ]
     },
     "execution_count": 94,
     "metadata": {},
     "output_type": "execute_result"
    }
   ],
   "source": [
    "torch.all(dw.eq(0)).item()"
   ]
  },
  {
   "cell_type": "code",
   "execution_count": 87,
   "metadata": {},
   "outputs": [
    {
     "data": {
      "text/plain": [
       "tensor([[-0.0750, -0.0659,  0.1320,  0.1435, -0.0688,  0.0262, -0.0769, -0.1994,\n",
       "         -0.1166,  0.0098, -0.1041,  0.1088,  0.0585, -0.1910,  0.0021, -0.0785,\n",
       "          0.1679,  0.1908, -0.2840,  0.0604, -0.1055, -0.0494,  0.1349, -0.2498,\n",
       "         -0.0754, -0.1435, -0.0673,  0.0334,  0.0579, -0.3393,  0.0375,  0.0596,\n",
       "         -0.0778, -0.0580,  0.0173,  0.1655, -0.3399, -0.0154, -0.1615, -0.1596,\n",
       "          0.0527, -0.0030, -0.0835, -0.0687,  0.0158,  0.0944, -0.0145, -0.0005,\n",
       "          0.0668,  0.0910],\n",
       "        [ 0.0184, -0.0646, -0.1135,  0.0585, -0.1454, -0.1304, -0.0239, -0.3240,\n",
       "          0.1236,  0.1327,  0.0969,  0.1153,  0.0286,  0.0611,  0.2156,  0.0278,\n",
       "         -0.1200,  0.1340, -0.0464,  0.3510,  0.0796, -0.1210, -0.2023,  0.1360,\n",
       "         -0.1890, -0.0431,  0.0749, -0.0200,  0.0132, -0.0239, -0.0959,  0.0388,\n",
       "          0.0510,  0.0568,  0.0125, -0.1360, -0.2251,  0.0088,  0.0500,  0.0213,\n",
       "          0.0083, -0.1452,  0.2215, -0.0533,  0.0345, -0.0430,  0.0902, -0.1524,\n",
       "          0.0705, -0.2502],\n",
       "        [-0.0482, -0.1794,  0.2904,  0.1030,  0.0454,  0.1472, -0.0397,  0.1186,\n",
       "         -0.0606,  0.2253, -0.0320, -0.0019, -0.0043, -0.0816, -0.1033, -0.0556,\n",
       "          0.0584, -0.0428, -0.0160, -0.0323,  0.0542,  0.2476, -0.1994,  0.0209,\n",
       "          0.1456, -0.0323, -0.1903, -0.0744, -0.1231,  0.1293,  0.1000, -0.1936,\n",
       "         -0.2336,  0.1080,  0.2186,  0.1532,  0.1293,  0.0760, -0.0708, -0.1299,\n",
       "         -0.1036,  0.1208,  0.0261, -0.0119, -0.1474, -0.0040, -0.0394, -0.0641,\n",
       "          0.1233, -0.0430],\n",
       "        [-0.0203, -0.1068,  0.1295,  0.0080,  0.0904, -0.0342,  0.1036, -0.0999,\n",
       "         -0.2429,  0.0126,  0.0795,  0.1074, -0.0105,  0.2169, -0.1463, -0.2277,\n",
       "          0.0006,  0.1356, -0.0199,  0.0911, -0.0209, -0.0703, -0.0308,  0.1650,\n",
       "          0.0021,  0.0206,  0.1123, -0.1181, -0.2222, -0.0280, -0.1872,  0.1144,\n",
       "          0.0693,  0.0355,  0.1086,  0.0805,  0.1493,  0.0502,  0.2825, -0.2488,\n",
       "          0.1360,  0.0521,  0.0777, -0.1741, -0.1516, -0.1002, -0.0193, -0.1330,\n",
       "          0.1227, -0.0329],\n",
       "        [ 0.1801, -0.0583,  0.0067, -0.0595, -0.1334,  0.0626, -0.0849,  0.1362,\n",
       "          0.3004, -0.0145, -0.0636, -0.1291,  0.1166,  0.1486, -0.0015, -0.2138,\n",
       "          0.0459,  0.0688,  0.0079,  0.0011, -0.1411, -0.0726, -0.1913,  0.0106,\n",
       "         -0.0920,  0.1074,  0.1145, -0.1584,  0.0439,  0.0066,  0.0738, -0.2608,\n",
       "         -0.1346, -0.1743, -0.1875,  0.1458, -0.0382,  0.0666,  0.2391,  0.0062,\n",
       "         -0.1356, -0.1103, -0.0009, -0.0149, -0.0229, -0.1173, -0.1284,  0.1403,\n",
       "         -0.0132, -0.2176]])"
      ]
     },
     "execution_count": 87,
     "metadata": {},
     "output_type": "execute_result"
    }
   ],
   "source": [
    "torch.div(weight, torch.sum(torch.abs(weight), 1, keepdim=True)) * 5"
   ]
  },
  {
   "cell_type": "code",
   "execution_count": null,
   "metadata": {},
   "outputs": [],
   "source": [
    "import numpy as np"
   ]
  },
  {
   "cell_type": "code",
   "execution_count": 137,
   "metadata": {},
   "outputs": [
    {
     "data": {
      "text/plain": [
       "tensor([[0.1498, 0.0649, 0.1451,  ..., 0.0785, 0.0754, 0.1309],\n",
       "        [0.0185, 0.0331, 0.1694,  ..., 0.0182, 0.1195, 0.0759],\n",
       "        [0.1678, 0.0605, 0.1115,  ..., 0.1762, 0.0061, 0.0319],\n",
       "        ...,\n",
       "        [0.1818, 0.1116, 0.1698,  ..., 0.0421, 0.1005, 0.0321],\n",
       "        [0.1000, 0.1403, 0.0358,  ..., 0.1692, 0.0101, 0.1853],\n",
       "        [0.0467, 0.0972, 0.1152,  ..., 0.0786, 0.0507, 0.0739]],\n",
       "       device='cuda:0', requires_grad=True)"
      ]
     },
     "execution_count": 137,
     "metadata": {},
     "output_type": "execute_result"
    }
   ],
   "source": [
    "func = torch.load('weight_func.pth')\n",
    "func"
   ]
  },
  {
   "cell_type": "code",
   "execution_count": 155,
   "metadata": {},
   "outputs": [
    {
     "data": {
      "text/plain": [
       "array([[0.15727054, 0.27909362, 0.15566394, ..., 0.25391203, 0.16233412,\n",
       "        0.17020182],\n",
       "       [0.0926707 , 0.04585999, 0.17958045, ..., 0.13925447, 0.2491092 ,\n",
       "        0.15218142],\n",
       "       [0.01297053, 0.17721987, 0.28220362, ..., 0.23663999, 0.22796502,\n",
       "        0.01888497],\n",
       "       ...,\n",
       "       [0.23468051, 0.12437587, 0.02754973, ..., 0.11183273, 0.28429945,\n",
       "        0.21705077],\n",
       "       [0.06346631, 0.20911721, 0.04278182, ..., 0.2998066 , 0.10315044,\n",
       "        0.25301037],\n",
       "       [0.01345781, 0.23983217, 0.00309399, ..., 0.16053849, 0.28552143,\n",
       "        0.19630527]])"
      ]
     },
     "execution_count": 155,
     "metadata": {},
     "output_type": "execute_result"
    }
   ],
   "source": [
    "origin = torch.load('weight_origin.pth')\n",
    "origin"
   ]
  },
  {
   "cell_type": "code",
   "execution_count": 156,
   "metadata": {},
   "outputs": [
    {
     "data": {
      "text/plain": [
       "array([[0.21139847, 0.06867376, 0.10596424, ..., 0.10892375, 0.29799877,\n",
       "        0.1799474 ],\n",
       "       [0.03545578, 0.03421535, 0.14775935, ..., 0.15234151, 0.14132225,\n",
       "        0.01764962],\n",
       "       [0.11830112, 0.0530921 , 0.26094672, ..., 0.21915892, 0.12271053,\n",
       "        0.29676148],\n",
       "       ...,\n",
       "       [0.13807053, 0.08745527, 0.27102097, ..., 0.1196172 , 0.14406738,\n",
       "        0.01601964],\n",
       "       [0.20056866, 0.22563088, 0.06172917, ..., 0.22638941, 0.24253406,\n",
       "        0.1360651 ],\n",
       "       [0.02728711, 0.2144359 , 0.22457442, ..., 0.25904274, 0.28936001,\n",
       "        0.1227374 ]])"
      ]
     },
     "execution_count": 156,
     "metadata": {},
     "output_type": "execute_result"
    }
   ],
   "source": [
    "w1 = torch.load('weight_1.pth')\n",
    "w1 "
   ]
  },
  {
   "cell_type": "code",
   "execution_count": 177,
   "metadata": {},
   "outputs": [
    {
     "data": {
      "text/plain": [
       "{'autoname1<net>_connection3<con>:autoname1<net>_layer1<neg><-autoname1<net>_layer2<neg>:{weight}': tensor([[  -0., -120., -120.,  ..., -120., -120., -120.],\n",
       "         [-120.,   -0., -120.,  ..., -120., -120., -120.],\n",
       "         [-120., -120.,   -0.,  ..., -120., -120., -120.],\n",
       "         ...,\n",
       "         [-120., -120., -120.,  ...,   -0., -120., -120.],\n",
       "         [-120., -120., -120.,  ..., -120.,   -0., -120.],\n",
       "         [-120., -120., -120.,  ..., -120., -120.,   -0.]], device='cuda:0'),\n",
       " 'autoname1<net>_connection1<con>:autoname1<net>_layer1<neg><-autoname1<net>_input<nod>:{weight}': tensor([[0.1056, 0.1481, 0.2086,  ..., 0.0280, 0.0529, 0.1309],\n",
       "         [0.0188, 0.0928, 0.0564,  ..., 0.1054, 0.1436, 0.0663],\n",
       "         [0.1406, 0.1335, 0.0690,  ..., 0.1774, 0.0646, 0.1819],\n",
       "         ...,\n",
       "         [0.1545, 0.0015, 0.1694,  ..., 0.0121, 0.1544, 0.1894],\n",
       "         [0.1298, 0.1205, 0.1138,  ..., 0.1901, 0.1724, 0.1624],\n",
       "         [0.0436, 0.1129, 0.0465,  ..., 0.0881, 0.0769, 0.1097]],\n",
       "        device='cuda:0', requires_grad=True),\n",
       " 'autoname1<net>_connection2<con>:autoname1<net>_layer2<neg><-autoname1<net>_layer1<neg>:{weight}': tensor([[22.5000,  0.0000,  0.0000,  ...,  0.0000,  0.0000,  0.0000],\n",
       "         [ 0.0000, 22.5000,  0.0000,  ...,  0.0000,  0.0000,  0.0000],\n",
       "         [ 0.0000,  0.0000, 22.5000,  ...,  0.0000,  0.0000,  0.0000],\n",
       "         ...,\n",
       "         [ 0.0000,  0.0000,  0.0000,  ..., 22.5000,  0.0000,  0.0000],\n",
       "         [ 0.0000,  0.0000,  0.0000,  ...,  0.0000, 22.5000,  0.0000],\n",
       "         [ 0.0000,  0.0000,  0.0000,  ...,  0.0000,  0.0000, 22.5000]],\n",
       "        device='cuda:0')}"
      ]
     },
     "execution_count": 177,
     "metadata": {},
     "output_type": "execute_result"
    }
   ],
   "source": [
    "w1= torch.load('C:\\\\Users\\\\admin\\\\Desktop\\\\ZJU\\qian_dao_hu\\\\weight10\\\\parameters\\\\_parameters_dict.pt')\n",
    "w1"
   ]
  },
  {
   "cell_type": "code",
   "execution_count": 178,
   "metadata": {},
   "outputs": [
    {
     "data": {
      "text/plain": [
       "{'autoname1<net>_connection3<con>:autoname1<net>_layer1<neg><-autoname1<net>_layer2<neg>:{weight}': tensor([[  -0., -120., -120.,  ..., -120., -120., -120.],\n",
       "         [-120.,   -0., -120.,  ..., -120., -120., -120.],\n",
       "         [-120., -120.,   -0.,  ..., -120., -120., -120.],\n",
       "         ...,\n",
       "         [-120., -120., -120.,  ...,   -0., -120., -120.],\n",
       "         [-120., -120., -120.,  ..., -120.,   -0., -120.],\n",
       "         [-120., -120., -120.,  ..., -120., -120.,   -0.]], device='cuda:0'),\n",
       " 'autoname1<net>_connection1<con>:autoname1<net>_layer1<neg><-autoname1<net>_input<nod>:{weight}': tensor([[0.0427, 0.0505, 0.2436,  ..., 0.2574, 0.0504, 0.0395],\n",
       "         [0.0219, 0.1826, 0.0406,  ..., 0.0356, 0.2015, 0.0194],\n",
       "         [0.0847, 0.0598, 0.0670,  ..., 0.0571, 0.0420, 0.3436],\n",
       "         ...,\n",
       "         [0.0225, 0.1846, 0.0420,  ..., 0.0353, 0.2014, 0.0203],\n",
       "         [0.0219, 0.1826, 0.0406,  ..., 0.0356, 0.2016, 0.0194],\n",
       "         [0.0221, 0.1834, 0.0407,  ..., 0.0357, 0.2020, 0.0196]],\n",
       "        device='cuda:0', requires_grad=True),\n",
       " 'autoname1<net>_connection2<con>:autoname1<net>_layer2<neg><-autoname1<net>_layer1<neg>:{weight}': tensor([[22.5000,  0.0000,  0.0000,  ...,  0.0000,  0.0000,  0.0000],\n",
       "         [ 0.0000, 22.5000,  0.0000,  ...,  0.0000,  0.0000,  0.0000],\n",
       "         [ 0.0000,  0.0000, 22.5000,  ...,  0.0000,  0.0000,  0.0000],\n",
       "         ...,\n",
       "         [ 0.0000,  0.0000,  0.0000,  ..., 22.5000,  0.0000,  0.0000],\n",
       "         [ 0.0000,  0.0000,  0.0000,  ...,  0.0000, 22.5000,  0.0000],\n",
       "         [ 0.0000,  0.0000,  0.0000,  ...,  0.0000,  0.0000, 22.5000]],\n",
       "        device='cuda:0')}"
      ]
     },
     "execution_count": 178,
     "metadata": {},
     "output_type": "execute_result"
    }
   ],
   "source": [
    "w500 = torch.load(r'C:\\Users\\admin\\Desktop\\ZJU\\qian_dao_hu\\weight2000\\parameters\\_parameters_dict.pt')\n",
    "w500"
   ]
  },
  {
   "cell_type": "code",
   "execution_count": null,
   "metadata": {},
   "outputs": [],
   "source": []
  }
 ],
 "metadata": {
  "kernelspec": {
   "display_name": "pytorch",
   "language": "python",
   "name": "python3"
  },
  "language_info": {
   "codemirror_mode": {
    "name": "ipython",
    "version": 3
   },
   "file_extension": ".py",
   "mimetype": "text/x-python",
   "name": "python",
   "nbconvert_exporter": "python",
   "pygments_lexer": "ipython3",
   "version": "3.9.13"
  }
 },
 "nbformat": 4,
 "nbformat_minor": 2
}

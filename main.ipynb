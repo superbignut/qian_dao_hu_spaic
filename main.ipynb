{
 "cells": [
  {
   "cell_type": "code",
   "execution_count": 27,
   "metadata": {},
   "outputs": [],
   "source": [
    "import csv\n",
    "import pandas as pd\n",
    "import random\n",
    "import torch\n",
    "import numpy as np\n"
   ]
  },
  {
   "cell_type": "code",
   "execution_count": null,
   "metadata": {},
   "outputs": [],
   "source": [
    "input_node_num = 16\n",
    "input_num_mul_index = 16\n",
    "\"\"\"\n",
    "    实际的传感器排序就如下面所示，输入给模型的编码输入就是 下面的 16 * 16\n",
    "\n",
    "    | 0     1     2    3      |   4    5   |  6     |  7     8     9   |   10    11   |  12    |  13    14    15  |\n",
    "    | 蓝    红    黑  表扬语义 |  批评  批评 | 酒精高  | 点赞  手掌  拳头  |  抚摸  抚摸  |   拍打  | 电低  电低  电低  |     \n",
    "\"\"\"\n",
    "\n",
    "def ysc_create_data_before_pretrain_new_new():\n",
    "    rows = 10000\n",
    "    data = []\n",
    "    groups = {\n",
    "        'ANGRY':    [[2],[9], [12]],\n",
    "        'NEGATIVE': [[1], [4,5], [6], [13,14,15]], # 这里的一个很大的假设就是,如果一起训练可以消极, 那么单个的输入给进来的时候,希望也是消极的!!!!!!\n",
    "        'POSITIVE': [[0], [3], [7], [8], [10,11]],\n",
    "        }\n",
    "    for _ in range(rows):\n",
    "        selected_emotion = random.choice(list(groups.keys()))\n",
    "        selected_group = random.choice(groups[selected_emotion])\n",
    "        # print(selected_group)\n",
    "        unselected_group_emo = [] # 找到同一情感但是不同group 的位置\n",
    "        for item in groups[selected_emotion]:\n",
    "            if item != selected_group:\n",
    "                unselected_group_emo.extend(item)\n",
    "\n",
    "        # print(unselected_group_emo)\n",
    "        # return\n",
    "        result_list = [0.0] * input_node_num\n",
    "        for i in range(input_node_num):\n",
    "            if i in selected_group:\n",
    "                result_list[i] = 1.0 # 选中的情感\n",
    "            elif i in unselected_group_emo:\n",
    "                result_list[i] = random.uniform(0, 0.8) # 不是主要输入 \"\"\"\n",
    "            else:\n",
    "                result_list[i] = random.uniform(0, 0.05)\n",
    "        data.append(result_list * input_num_mul_index)\n",
    "\n",
    "    with open('output.csv', mode='w', newline='') as file:\n",
    "        writer = csv.writer(file)\n",
    "        writer.writerows(data)\n",
    "    print(\"CSV文件已保存。\")"
   ]
  },
  {
   "cell_type": "code",
   "execution_count": 46,
   "metadata": {},
   "outputs": [
    {
     "name": "stdout",
     "output_type": "stream",
     "text": [
      "CSV文件已保存。\n"
     ]
    }
   ],
   "source": [
    "ysc_create_data_before_pretrain_new_new()"
   ]
  },
  {
   "cell_type": "code",
   "execution_count": 5,
   "metadata": {},
   "outputs": [
    {
     "data": {
      "text/plain": [
       "torch.Size([1, 256])"
      ]
     },
     "execution_count": 5,
     "metadata": {},
     "output_type": "execute_result"
    }
   ],
   "source": [
    "import numpy as np\n",
    "import torch\n",
    "torch.tensor([[1 if i==1 or i == 4 else 0.01 for i in range(16)] * 16]).shape"
   ]
  },
  {
   "cell_type": "code",
   "execution_count": 13,
   "metadata": {},
   "outputs": [
    {
     "name": "stdout",
     "output_type": "stream",
     "text": [
      "[0, 5, 9, 11, 13]\n",
      "[3]\n"
     ]
    }
   ],
   "source": [
    "groups = {\n",
    "        'ANGRY':    [[2,], [10,], [12,]],\n",
    "        'NEGATIVE': [[1, 4], [6, 7], [8,], [14, 15]], # 这里的一个很大的假设就是,如果一起训练可以消极, 那么单个的输入给进来的时候,希望也是消极的!!!!!!\n",
    "        'POSITIVE': [[0,], [3,], [5,], [9,], [11,], [13,]],\n",
    "        }\n",
    "\n",
    "selected_emotion = random.choice(list(groups.keys()))\n",
    "selected_group = random.choice(groups[selected_emotion])\n",
    "\n",
    "unselected_group_emo = []\n",
    "for item in groups[selected_emotion]:\n",
    "    if item != selected_group:\n",
    "        unselected_group_emo.extend(item)\n",
    "print(unselected_group_emo)\n",
    "print(selected_group)"
   ]
  },
  {
   "cell_type": "code",
   "execution_count": 15,
   "metadata": {},
   "outputs": [
    {
     "data": {
      "text/plain": [
       "False"
      ]
     },
     "execution_count": 15,
     "metadata": {},
     "output_type": "execute_result"
    }
   ],
   "source": [
    "6 in groups[\"NEGATIVE\"]"
   ]
  },
  {
   "cell_type": "code",
   "execution_count": 3,
   "metadata": {},
   "outputs": [
    {
     "data": {
      "text/plain": [
       "0.999999900000005"
      ]
     },
     "execution_count": 3,
     "metadata": {},
     "output_type": "execute_result"
    }
   ],
   "source": [
    "np.exp(-1/1e7)"
   ]
  },
  {
   "cell_type": "code",
   "execution_count": 4,
   "metadata": {},
   "outputs": [
    {
     "data": {
      "text/plain": [
       "0.9900498337491681"
      ]
     },
     "execution_count": 4,
     "metadata": {},
     "output_type": "execute_result"
    }
   ],
   "source": [
    "np.exp(-1/100)"
   ]
  },
  {
   "cell_type": "code",
   "execution_count": 5,
   "metadata": {},
   "outputs": [
    {
     "data": {
      "text/plain": [
       "40.0"
      ]
     },
     "execution_count": 5,
     "metadata": {},
     "output_type": "execute_result"
    }
   ],
   "source": [
    "2.0 / 0.05\n"
   ]
  },
  {
   "cell_type": "code",
   "execution_count": 6,
   "metadata": {},
   "outputs": [
    {
     "data": {
      "text/plain": [
       "0.9048374180359595"
      ]
     },
     "execution_count": 6,
     "metadata": {},
     "output_type": "execute_result"
    }
   ],
   "source": [
    "np.exp(-1/10)"
   ]
  },
  {
   "cell_type": "code",
   "execution_count": 7,
   "metadata": {},
   "outputs": [
    {
     "data": {
      "text/plain": [
       "0.015625"
      ]
     },
     "execution_count": 7,
     "metadata": {},
     "output_type": "execute_result"
    }
   ],
   "source": [
    "1/64"
   ]
  },
  {
   "cell_type": "code",
   "execution_count": 9,
   "metadata": {},
   "outputs": [
    {
     "data": {
      "text/plain": [
       "0.01"
      ]
     },
     "execution_count": 9,
     "metadata": {},
     "output_type": "execute_result"
    }
   ],
   "source": [
    "1/ 100"
   ]
  },
  {
   "cell_type": "code",
   "execution_count": 11,
   "metadata": {},
   "outputs": [
    {
     "data": {
      "text/plain": [
       "0.01171875"
      ]
     },
     "execution_count": 11,
     "metadata": {},
     "output_type": "execute_result"
    }
   ],
   "source": [
    "1.5/ 128"
   ]
  },
  {
   "cell_type": "code",
   "execution_count": 13,
   "metadata": {},
   "outputs": [
    {
     "data": {
      "text/plain": [
       "0.9043820750088044"
      ]
     },
     "execution_count": 13,
     "metadata": {},
     "output_type": "execute_result"
    }
   ],
   "source": [
    "0.99 ** 10"
   ]
  },
  {
   "cell_type": "code",
   "execution_count": null,
   "metadata": {},
   "outputs": [],
   "source": []
  }
 ],
 "metadata": {
  "kernelspec": {
   "display_name": "pytorch",
   "language": "python",
   "name": "python3"
  },
  "language_info": {
   "codemirror_mode": {
    "name": "ipython",
    "version": 3
   },
   "file_extension": ".py",
   "mimetype": "text/x-python",
   "name": "python",
   "nbconvert_exporter": "python",
   "pygments_lexer": "ipython3",
   "version": "3.9.13"
  }
 },
 "nbformat": 4,
 "nbformat_minor": 2
}

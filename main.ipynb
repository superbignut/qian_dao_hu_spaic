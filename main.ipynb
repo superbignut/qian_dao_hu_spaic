{
 "cells": [
  {
   "cell_type": "code",
   "execution_count": 43,
   "metadata": {},
   "outputs": [],
   "source": [
    "import csv\n",
    "import pandas as pd\n",
    "import random\n",
    "import torch\n"
   ]
  },
  {
   "cell_type": "code",
   "execution_count": null,
   "metadata": {},
   "outputs": [],
   "source": [
    "c = torch.load(f='save/ysc_model/parameters/_variable_dict.pt') # 这个是最全的一个输出\n",
    "c"
   ]
  },
  {
   "cell_type": "code",
   "execution_count": 45,
   "metadata": {},
   "outputs": [
    {
     "data": {
      "text/plain": [
       "tensor([[ 0.0958, -0.4020, -0.2788, -1.2050],\n",
       "        [-0.9561, -1.0633, -1.8108,  1.0159]])"
      ]
     },
     "execution_count": 45,
     "metadata": {},
     "output_type": "execute_result"
    }
   ],
   "source": [
    "a = torch.randn(2,4)\n",
    "a"
   ]
  },
  {
   "cell_type": "code",
   "execution_count": 46,
   "metadata": {},
   "outputs": [
    {
     "data": {
      "text/plain": [
       "tensor([[ 0.0096, -0.0402, -0.0279, -0.1205],\n",
       "        [-0.0956, -0.1063, -0.1811,  0.1016]])"
      ]
     },
     "execution_count": 46,
     "metadata": {},
     "output_type": "execute_result"
    }
   ],
   "source": [
    "a * 0.1"
   ]
  },
  {
   "cell_type": "code",
   "execution_count": 50,
   "metadata": {},
   "outputs": [
    {
     "data": {
      "text/plain": [
       "tensor([0.])"
      ]
     },
     "execution_count": 50,
     "metadata": {},
     "output_type": "execute_result"
    }
   ],
   "source": [
    "b = torch.tensor([0.,])\n",
    "b"
   ]
  },
  {
   "cell_type": "code",
   "execution_count": 51,
   "metadata": {},
   "outputs": [
    {
     "data": {
      "text/plain": [
       "tensor([[0., -0., -0., -0.],\n",
       "        [-0., -0., -0., 0.]])"
      ]
     },
     "execution_count": 51,
     "metadata": {},
     "output_type": "execute_result"
    }
   ],
   "source": [
    "a * b"
   ]
  },
  {
   "cell_type": "code",
   "execution_count": 16,
   "metadata": {},
   "outputs": [],
   "source": [
    "input_node_num = 16\n",
    "input_num_mul = 16 #  把输入维度放大10倍\n"
   ]
  },
  {
   "cell_type": "code",
   "execution_count": null,
   "metadata": {},
   "outputs": [],
   "source": [
    "for key, val in c.items():\n",
    "    print(key)\n",
    "    print(val)"
   ]
  },
  {
   "cell_type": "code",
   "execution_count": 39,
   "metadata": {},
   "outputs": [],
   "source": [
    "input_num_mul_index = 16\n",
    "def ysc_create_data_after_pretrain_new_new(): # 这里在测试上可能要下一点功夫了, 当然要做到比训练数据集，更加的多样化， 如果有问题，就可能要 重新回去修改\n",
    "                                              # 训练数据集的构建，之前做的确实太简单了\n",
    "    rows = 400\n",
    "    data = []\n",
    "    groups = {\n",
    "        'ANGRY': [15, 11],\n",
    "        'NEGATIVE': [14, 7, 6, 5, 3, 1], # 这里的一个很大的假设就是,如果一起训练可以消极, 那么单个的输入给进来的时候,希望也是消极的!!!!!!\n",
    "        'POSITIVE': [2, 9, 10, 13],\n",
    "        'NULL': [0, 4, 8, 12]\n",
    "        }\n",
    "    for _ in range(rows):\n",
    "        selected_group = random.choice(list(groups.values()))\n",
    "        result_list = [0.0] * input_node_num\n",
    "        for i in range(input_node_num):\n",
    "            if i in selected_group:\n",
    "                result_list[i] = 1.0\n",
    "            else:\n",
    "                result_list[i] = random.uniform(0, 0.2)\n",
    "        data.append(result_list * input_num_mul_index)\n",
    "    with open('testdata.csv', mode='w', newline='') as file:\n",
    "        writer = csv.writer(file)\n",
    "        writer.writerows(data)\n",
    "    print(\"CSV文件已保存。\")"
   ]
  },
  {
   "cell_type": "code",
   "execution_count": 40,
   "metadata": {},
   "outputs": [
    {
     "name": "stdout",
     "output_type": "stream",
     "text": [
      "CSV文件已保存。\n"
     ]
    }
   ],
   "source": [
    "ysc_create_data_after_pretrain_new_new()"
   ]
  },
  {
   "cell_type": "code",
   "execution_count": null,
   "metadata": {},
   "outputs": [],
   "source": []
  },
  {
   "cell_type": "code",
   "execution_count": 41,
   "metadata": {},
   "outputs": [],
   "source": [
    "input_node_num = 16\n",
    "input_num_mul_index = 16 #  把输入维度放大10倍\n",
    "\n",
    "# input_node_num = input_node_num * input_num_mul #  把输入维度放大10倍\n",
    "\n",
    "def ysc_create_data_before_pretrain_new_new():\n",
    "    rows = 10000\n",
    "    data = []\n",
    "    groups = {\n",
    "        'ANGRY': [15, 11],\n",
    "        'NEGATIVE': [14, 7, 6, 5, 3, 1], # 这里的一个很大的假设就是,如果一起训练可以消极, 那么单个的输入给进来的时候,希望也是消极的!!!!!!\n",
    "        'POSITIVE': [2, 9, 10, 13],\n",
    "        'NULL': [0, 4, 8, 12]\n",
    "        }\n",
    "    for _ in range(rows):\n",
    "        selected_group = random.choice(list(groups.values()))\n",
    "        result_list = [0.0] * input_node_num\n",
    "        for i in range(input_node_num):\n",
    "            if i in selected_group:\n",
    "                result_list[i] = 1.0\n",
    "            else:\n",
    "                result_list[i] = random.uniform(0, 0.2)\n",
    "        data.append(result_list * input_num_mul_index)\n",
    "    with open('output.csv', mode='w', newline='') as file:\n",
    "        writer = csv.writer(file)\n",
    "        writer.writerows(data)\n",
    "    print(\"CSV文件已保存。\")\n"
   ]
  },
  {
   "cell_type": "code",
   "execution_count": 42,
   "metadata": {},
   "outputs": [
    {
     "name": "stdout",
     "output_type": "stream",
     "text": [
      "CSV文件已保存。\n"
     ]
    }
   ],
   "source": [
    "ysc_create_data_before_pretrain_new_new()"
   ]
  },
  {
   "cell_type": "code",
   "execution_count": null,
   "metadata": {},
   "outputs": [],
   "source": [
    "df = pd.read_csv('output.csv', header=None) # 读取数据"
   ]
  },
  {
   "cell_type": "code",
   "execution_count": 26,
   "metadata": {},
   "outputs": [],
   "source": [
    "def ysc_create_data_after_pretrain_new_new(): # 这里在测试上可能要下一点功夫了\n",
    "    rows = 400\n",
    "    data = []\n",
    "    groups = {\n",
    "        'ANGRY': [15, 11],\n",
    "        'NEGATIVE': [14, 10, 7, 6, 5, 3, 1], # 这里的一个很大的假设就是,如果一起训练可以消极, 那么单个的输入给进来的时候,希望也是消极的!!!!!!\n",
    "        'POSITIVE': [2, 9, 10, 13],\n",
    "        'NULL': [0, 4, 8, 12]\n",
    "        }\n",
    "    for _ in range(rows):\n",
    "        selected_group = random.choice(list(groups.values()))\n",
    "        result_list = [0.0] * input_node_num\n",
    "        for i in range(input_node_num):\n",
    "            if i in selected_group:\n",
    "                result_list[i] = 1.0\n",
    "            else:\n",
    "                result_list[i] = random.uniform(0, 0.2)\n",
    "        data.append(result_list * input_num_mul_index)\n",
    "    with open('testdata.csv', mode='w', newline='') as file:\n",
    "        writer = csv.writer(file)\n",
    "        writer.writerows(data)\n",
    "    print(\"CSV文件已保存。\")"
   ]
  },
  {
   "cell_type": "code",
   "execution_count": 27,
   "metadata": {},
   "outputs": [
    {
     "name": "stdout",
     "output_type": "stream",
     "text": [
      "CSV文件已保存。\n"
     ]
    }
   ],
   "source": [
    "\n",
    "ysc_create_data_after_pretrain_new_new()"
   ]
  },
  {
   "cell_type": "code",
   "execution_count": null,
   "metadata": {},
   "outputs": [],
   "source": []
  },
  {
   "cell_type": "code",
   "execution_count": null,
   "metadata": {},
   "outputs": [],
   "source": []
  },
  {
   "cell_type": "code",
   "execution_count": null,
   "metadata": {},
   "outputs": [],
   "source": [
    "ls = [1,2,3,4,5,6]\n",
    "ls2 = ls * 2"
   ]
  },
  {
   "cell_type": "code",
   "execution_count": null,
   "metadata": {},
   "outputs": [],
   "source": [
    "ls2[0]= 100\n",
    "ls2"
   ]
  },
  {
   "cell_type": "code",
   "execution_count": null,
   "metadata": {},
   "outputs": [],
   "source": [
    "ysc_create_data_before_pretrain_new_new()\n"
   ]
  },
  {
   "cell_type": "code",
   "execution_count": null,
   "metadata": {},
   "outputs": [],
   "source": [
    "buffer = torch.load('ysc_buffer.pth')"
   ]
  },
  {
   "cell_type": "code",
   "execution_count": null,
   "metadata": {},
   "outputs": [],
   "source": [
    "torch.tensor(0).unsqueeze(0)"
   ]
  },
  {
   "cell_type": "code",
   "execution_count": null,
   "metadata": {},
   "outputs": [],
   "source": [
    "avg_buffer = [sum(buffer[i][-100:]) / len(buffer[i][-100:]) for i in range(len(buffer))]"
   ]
  },
  {
   "cell_type": "code",
   "execution_count": null,
   "metadata": {},
   "outputs": [],
   "source": [
    "buffer.shape"
   ]
  },
  {
   "cell_type": "code",
   "execution_count": null,
   "metadata": {},
   "outputs": [],
   "source": [
    "len(buffer[1])"
   ]
  },
  {
   "cell_type": "code",
   "execution_count": null,
   "metadata": {},
   "outputs": [],
   "source": [
    "buffer = torch.load('ysc_buffer.pth')\n",
    "len(buffer)"
   ]
  },
  {
   "cell_type": "code",
   "execution_count": null,
   "metadata": {},
   "outputs": [],
   "source": [
    "for i in range(4):\n",
    "    print(len(buffer[i]))"
   ]
  },
  {
   "cell_type": "code",
   "execution_count": null,
   "metadata": {},
   "outputs": [],
   "source": [
    "[sum(buffer[i][-200:]) / len(buffer[i][-200:]) for i in range(len(buffer))]"
   ]
  },
  {
   "cell_type": "code",
   "execution_count": null,
   "metadata": {},
   "outputs": [],
   "source": [
    "ls = [[] for _ in range(4)]"
   ]
  },
  {
   "cell_type": "code",
   "execution_count": null,
   "metadata": {},
   "outputs": [],
   "source": [
    "a = torch.randn(2,13)\n",
    "b = torch.randn(2,13)\n",
    "a / b"
   ]
  },
  {
   "cell_type": "code",
   "execution_count": null,
   "metadata": {},
   "outputs": [],
   "source": [
    "import numpy as np"
   ]
  },
  {
   "cell_type": "code",
   "execution_count": null,
   "metadata": {},
   "outputs": [],
   "source": [
    "np.random.rand(10, 4) * 0.2"
   ]
  },
  {
   "cell_type": "code",
   "execution_count": null,
   "metadata": {},
   "outputs": [],
   "source": [
    "a = torch.load('weight_origin.pth')"
   ]
  },
  {
   "cell_type": "code",
   "execution_count": null,
   "metadata": {},
   "outputs": [],
   "source": [
    "a\n"
   ]
  },
  {
   "cell_type": "code",
   "execution_count": null,
   "metadata": {},
   "outputs": [],
   "source": [
    "b = torch.load('weight_new.pth')"
   ]
  },
  {
   "cell_type": "code",
   "execution_count": null,
   "metadata": {},
   "outputs": [],
   "source": [
    "b"
   ]
  },
  {
   "cell_type": "code",
   "execution_count": null,
   "metadata": {},
   "outputs": [],
   "source": [
    "a[0][9]"
   ]
  },
  {
   "cell_type": "code",
   "execution_count": null,
   "metadata": {},
   "outputs": [],
   "source": [
    "b[0][9]"
   ]
  },
  {
   "cell_type": "code",
   "execution_count": null,
   "metadata": {},
   "outputs": [],
   "source": [
    "for i in range(c.shape[0]):\n",
    "    if all(c[i]) :\n",
    "        pass\n",
    "    else:\n",
    "        print(i)"
   ]
  },
  {
   "cell_type": "code",
   "execution_count": null,
   "metadata": {},
   "outputs": [],
   "source": [
    "all(c[10])\n",
    "c[10]"
   ]
  },
  {
   "cell_type": "code",
   "execution_count": null,
   "metadata": {},
   "outputs": [],
   "source": [
    "ls1 = [1,2,3,4]\n",
    "ls2 = [1,2,3,4]"
   ]
  },
  {
   "cell_type": "code",
   "execution_count": null,
   "metadata": {},
   "outputs": [],
   "source": [
    "torch.tensor(ls1) / torch.tensor(ls2)"
   ]
  },
  {
   "cell_type": "code",
   "execution_count": null,
   "metadata": {},
   "outputs": [],
   "source": [
    "dw = torch.load('dw.pth')\n",
    "dw"
   ]
  },
  {
   "cell_type": "code",
   "execution_count": null,
   "metadata": {},
   "outputs": [],
   "source": [
    "dw = torch.load('dw.pth')\n",
    "for i  in range(dw.shape[0]):\n",
    "    print(all(dw[i] == 0))"
   ]
  },
  {
   "cell_type": "code",
   "execution_count": null,
   "metadata": {},
   "outputs": [],
   "source": [
    "weight = torch.randn(5,50)\n",
    "weight"
   ]
  },
  {
   "cell_type": "code",
   "execution_count": null,
   "metadata": {},
   "outputs": [],
   "source": [
    "torch.all(dw.eq(0)).item()"
   ]
  },
  {
   "cell_type": "code",
   "execution_count": null,
   "metadata": {},
   "outputs": [],
   "source": [
    "torch.div(weight, torch.sum(torch.abs(weight), 1, keepdim=True)) * 5"
   ]
  },
  {
   "cell_type": "code",
   "execution_count": null,
   "metadata": {},
   "outputs": [],
   "source": [
    "import numpy as np"
   ]
  },
  {
   "cell_type": "code",
   "execution_count": null,
   "metadata": {},
   "outputs": [],
   "source": [
    "func = torch.load('weight_func.pth')\n",
    "func"
   ]
  },
  {
   "cell_type": "code",
   "execution_count": null,
   "metadata": {},
   "outputs": [],
   "source": [
    "origin = torch.load('weight_origin.pth')\n",
    "origin"
   ]
  },
  {
   "cell_type": "code",
   "execution_count": null,
   "metadata": {},
   "outputs": [],
   "source": [
    "w1 = torch.load('weight_1.pth')\n",
    "w1 "
   ]
  },
  {
   "cell_type": "code",
   "execution_count": null,
   "metadata": {},
   "outputs": [],
   "source": [
    "w1= torch.load('C:\\\\Users\\\\admin\\\\Desktop\\\\ZJU\\qian_dao_hu\\\\weight10\\\\parameters\\\\_parameters_dict.pt')\n",
    "w1"
   ]
  },
  {
   "cell_type": "code",
   "execution_count": null,
   "metadata": {},
   "outputs": [],
   "source": [
    "w500 = torch.load(r'C:\\Users\\admin\\Desktop\\ZJU\\qian_dao_hu\\save_all_new\\parameters\\_variables.pt')\n",
    "w500"
   ]
  },
  {
   "cell_type": "code",
   "execution_count": null,
   "metadata": {},
   "outputs": [],
   "source": [
    "w500 = torch.load(r'C:\\Users\\admin\\Desktop\\ZJU\\qian_dao_hu\\save_all\\parameters\\_variables.pt')\n",
    "w500"
   ]
  },
  {
   "cell_type": "code",
   "execution_count": null,
   "metadata": {},
   "outputs": [],
   "source": [
    "from ysc_stdp import YscNet\n",
    "from SPAIC import spaic"
   ]
  },
  {
   "cell_type": "code",
   "execution_count": 14,
   "metadata": {},
   "outputs": [],
   "source": [
    "emo = YscNet()\n",
    "\n",
    "net_loaded = spaic.Network_loader.network_load(filename='save_all')"
   ]
  },
  {
   "cell_type": "code",
   "execution_count": 15,
   "metadata": {},
   "outputs": [
    {
     "name": "stdout",
     "output_type": "stream",
     "text": [
      "tensor([[0.0552, 0.1087, 0.1285,  ..., 0.1180, 0.0865, 0.1126],\n",
      "        [0.1809, 0.1212, 0.0795,  ..., 0.1242, 0.0411, 0.0114],\n",
      "        [0.0686, 0.1643, 0.0426,  ..., 0.0722, 0.1724, 0.0107],\n",
      "        ...,\n",
      "        [0.0576, 0.0744, 0.2521,  ..., 0.2369, 0.0487, 0.0743],\n",
      "        [0.0634, 0.1988, 0.0629,  ..., 0.0537, 0.1401, 0.0315],\n",
      "        [0.0833, 0.2066, 0.0843,  ..., 0.0628, 0.1870, 0.0228]],\n",
      "       requires_grad=True)\n"
     ]
    }
   ],
   "source": [
    "print(net_loaded.connection1.weight.value)"
   ]
  },
  {
   "cell_type": "code",
   "execution_count": null,
   "metadata": {},
   "outputs": [],
   "source": [
    "# spaic.Network_saver.network_save(net_loaded, filename='save_all_new', save=True, combine=False)"
   ]
  },
  {
   "cell_type": "code",
   "execution_count": null,
   "metadata": {},
   "outputs": [],
   "source": []
  }
 ],
 "metadata": {
  "kernelspec": {
   "display_name": "pytorch",
   "language": "python",
   "name": "python3"
  },
  "language_info": {
   "codemirror_mode": {
    "name": "ipython",
    "version": 3
   },
   "file_extension": ".py",
   "mimetype": "text/x-python",
   "name": "python",
   "nbconvert_exporter": "python",
   "pygments_lexer": "ipython3",
   "version": "3.9.13"
  }
 },
 "nbformat": 4,
 "nbformat_minor": 2
}
